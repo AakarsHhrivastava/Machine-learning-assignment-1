{
 "cells": [
  {
   "cell_type": "markdown",
   "id": "1bee6f6f-4fc6-420e-9e3f-aff705fae918",
   "metadata": {},
   "source": [
    "### Q1- Explain the following with an example\n",
    "### 1.) Artificial intelligence\n",
    "### 2.) Machine Learning\n",
    "### 3) Deep Learning"
   ]
  },
  {
   "cell_type": "code",
   "execution_count": 1,
   "id": "94f7ed3b-c232-46fa-ba08-e5381a272619",
   "metadata": {},
   "outputs": [],
   "source": [
    "# Artificial Intelligence is the broader concept of creating intelligent machines, Machine Learning is a subset of AI focused on learning from data, and Deep Learning is a specialized approach within machine learning that involves deep neural networks to process and learn from large datasets."
   ]
  },
  {
   "cell_type": "markdown",
   "id": "91350baf-7b25-49f5-8f3e-af495959588e",
   "metadata": {},
   "source": [
    "### Q2- What is supervised learning? List some examples of supervised learning."
   ]
  },
  {
   "cell_type": "code",
   "execution_count": 2,
   "id": "81417baa-2887-4d76-b965-ee06ef10e90c",
   "metadata": {},
   "outputs": [],
   "source": [
    "#Supervised learning is a type of machine learning where the algorithm learns from labeled training data to make predictions or decisions. In supervised learning, the model is provided with input-output pairs (features and corresponding labels) during the training process. The goal is to learn a mapping from input features to the desired output or target variable so that it can make accurate predictions on new, unseen data."
   ]
  },
  {
   "cell_type": "code",
   "execution_count": 3,
   "id": "6a3bbe3d-5c81-4b36-8861-5aa8d6473776",
   "metadata": {},
   "outputs": [],
   "source": [
    "#Image Classification: Given a dataset of images of various objects along with their corresponding labels (e.g., cat, dog, car), the supervised learning algorithm can learn to classify new images into their respective categories."
   ]
  },
  {
   "cell_type": "markdown",
   "id": "61179e79-a759-4053-92ad-73a0afa0b459",
   "metadata": {},
   "source": [
    "### Q3- What is unsupervised learning? List some examples of unsupervised learning."
   ]
  },
  {
   "cell_type": "code",
   "execution_count": 4,
   "id": "9599b9a7-8893-4c42-9acb-f7dd5a7688cb",
   "metadata": {},
   "outputs": [],
   "source": [
    "#Q3- What is unsupervised learning? List some examples of unsupervised learning."
   ]
  },
  {
   "cell_type": "code",
   "execution_count": 5,
   "id": "7352de20-4614-466b-af42-25342e65563c",
   "metadata": {},
   "outputs": [],
   "source": [
    "#Clustering: One of the most common applications of unsupervised learning is clustering data. For example, given a dataset of customer purchase behaviors, the algorithm can group similar customers into clusters to identify market segments."
   ]
  },
  {
   "cell_type": "markdown",
   "id": "605e6f68-12e6-4f80-b250-bacf385dbef5",
   "metadata": {},
   "source": [
    "### Q4- What is the difference between AI, ML, DL, and DS?"
   ]
  },
  {
   "cell_type": "code",
   "execution_count": 6,
   "id": "eb508414-6bd6-4083-93a6-6710a7967bee",
   "metadata": {},
   "outputs": [],
   "source": [
    "#AI is the broader field that aims to create intelligent systems.\n",
    "#ML is a subset of AI that focuses on algorithms that learn from data.\n",
    "#DL is a specialized subset of ML that involves deep neural networks for learning representations.\n",
    "#DS is a multidisciplinary field that uses various techniques to analyze and extract insights from data."
   ]
  },
  {
   "cell_type": "markdown",
   "id": "6e428612-c5a0-482f-a10c-76f9f9681972",
   "metadata": {},
   "source": [
    "### Q5- What are the main differences between supervised, unsupervised, and semi-supervised learning?"
   ]
  },
  {
   "cell_type": "code",
   "execution_count": 7,
   "id": "136637f5-15fd-4543-8697-a28bdc00115a",
   "metadata": {},
   "outputs": [],
   "source": [
    "# supervised learning uses labeled data to train a model for making predictions, unsupervised learning finds patterns in unlabeled data, and semi-supervised learning combines labeled and unlabeled data to improve model performance. Each type of learning has its applications and is suited for different scenarios based on the availability and nature of the data."
   ]
  },
  {
   "cell_type": "markdown",
   "id": "d60ed561-9f79-46d6-a9c1-dcae01bb3515",
   "metadata": {},
   "source": [
    "### Q6- What is train, test and validation split? Explain the importance of each term."
   ]
  },
  {
   "cell_type": "code",
   "execution_count": 8,
   "id": "9dca651f-6a94-4282-bae0-b02746c8b9a8",
   "metadata": {},
   "outputs": [],
   "source": [
    "#In machine learning, the train, test, and validation split refers to dividing the available dataset into three separate subsets: the training set, the test set, and the validation set. This division is essential for building and evaluating machine learning models effectively.\n",
    "\n",
    "#Training Set:\n",
    "#Definition: The training set is a subset of the dataset used to train the machine learning model. It contains input features (X) and corresponding labels or target values (y).\n",
    "#Importance: The training set is crucial because it is used to teach the model to recognize patterns and relationships in the data. During training, the model learns from the input-output pairs and adjusts its parameters to minimize the prediction error. The goal is to build a model that can generalize well to unseen data.\n",
    "\n",
    "#Test Set:\n",
    "#Definition: The test set is a separate subset of the dataset that the model has never seen during the training process. It contains input features (X) and corresponding labels or target values (y) for evaluation.\n",
    "#Importance: The test set is used to assess how well the trained model performs on new, unseen data. By evaluating the model on the test set, we can measure its generalization ability and estimate its performance in real-world scenarios. The test set provides an unbiased evaluation of the model's effectiveness.\n",
    "\n",
    "#Validation Set:\n",
    "#Definition: The validation set is an additional subset of the dataset, distinct from both the training and test sets. It is used during the training process for hyperparameter tuning and model selection.\n",
    "#Importance: The validation set helps in preventing overfitting, which occurs when a model performs well on the training data but poorly on new, unseen data. By evaluating the model's performance on the validation set, we can tune hyperparameters (e.g., learning rate, number of layers) and compare different model architectures to select the best-performing one. The validation set allows us to fine-tune the model and choose the best configuration before evaluating it on the test set."
   ]
  },
  {
   "cell_type": "markdown",
   "id": "72fdbc96-db0e-4e8b-8786-00e6541a938b",
   "metadata": {},
   "source": [
    "### Q7- How can unsupervised learning be used in anomaly detection?"
   ]
  },
  {
   "cell_type": "code",
   "execution_count": 9,
   "id": "2afc26df-53c1-482a-8d63-f3aec4e38c41",
   "metadata": {},
   "outputs": [],
   "source": [
    "#Unsupervised learning is commonly used in anomaly detection because it allows us to detect patterns or structures in data without relying on pre-labeled examples of anomalies. Anomaly detection with unsupervised learning typically involves identifying data points or instances that deviate significantly from the expected normal behavior of the majority of the data."
   ]
  },
  {
   "cell_type": "markdown",
   "id": "3bd6511d-d475-4ed4-8a89-620bc7278463",
   "metadata": {},
   "source": [
    "### Q8- List down some commonly used supervised lKarnin* algorithms and unsupervised learning algorithms."
   ]
  },
  {
   "cell_type": "code",
   "execution_count": null,
   "id": "23dfe379-4127-43cf-be21-38025961f429",
   "metadata": {},
   "outputs": [],
   "source": [
    "#Commonly used Supervised Learning Algorithms:\n",
    "\n",
    "# Linear Regression\n",
    "# Logistic Regression\n",
    "# Decision Trees\n",
    "# Random Forest\n",
    "# Support Vector Machines (SVM)\n",
    "# K-Nearest Neighbors (KNN)\n",
    "# Naive Bayes\n",
    "\n",
    "# Commonly used Unsupervised Learning Algorithms:\n",
    "\n",
    "# K-Means Clustering\n",
    "# Hierarchical Clustering\n",
    "# Density-Based Spatial Clustering of Applications with Noise (DBSCAN)\n",
    "# Principal Component Analysis (PCA)\n",
    "# t-Distributed Stochastic Neighbor Embedding (t-SNE)\n",
    "# Autoencoders (used in Deep Learning)\n",
    "# Gaussian Mixture Models (GMM)"
   ]
  }
 ],
 "metadata": {
  "kernelspec": {
   "display_name": "Python 3 (ipykernel)",
   "language": "python",
   "name": "python3"
  },
  "language_info": {
   "codemirror_mode": {
    "name": "ipython",
    "version": 3
   },
   "file_extension": ".py",
   "mimetype": "text/x-python",
   "name": "python",
   "nbconvert_exporter": "python",
   "pygments_lexer": "ipython3",
   "version": "3.10.8"
  }
 },
 "nbformat": 4,
 "nbformat_minor": 5
}
